{
 "cells": [
  {
   "cell_type": "code",
   "execution_count": 5,
   "metadata": {
    "execution": {
     "iopub.execute_input": "2021-11-11T10:32:44.193456Z",
     "iopub.status.busy": "2021-11-11T10:32:44.192591Z",
     "iopub.status.idle": "2021-11-11T10:32:45.398998Z",
     "shell.execute_reply": "2021-11-11T10:32:45.398006Z",
     "shell.execute_reply.started": "2021-11-11T10:32:44.193318Z"
    }
   },
   "outputs": [],
   "source": [
    "import numpy as np \n",
    "import pandas as pd\n",
    "import matplotlib.pyplot as plt\n",
    "\n",
    "from sklearn.preprocessing import LabelEncoder\n",
    "from sklearn.preprocessing import StandardScaler\n",
    "\n",
    "from sklearn.cluster import KMeans\n",
    "from sklearn.decomposition import PCA"
   ]
  },
  {
   "cell_type": "code",
   "execution_count": 8,
   "metadata": {
    "execution": {
     "iopub.execute_input": "2021-11-11T10:32:45.401287Z",
     "iopub.status.busy": "2021-11-11T10:32:45.400968Z",
     "iopub.status.idle": "2021-11-11T10:32:45.422003Z",
     "shell.execute_reply": "2021-11-11T10:32:45.421417Z",
     "shell.execute_reply.started": "2021-11-11T10:32:45.401243Z"
    }
   },
   "outputs": [],
   "source": [
    "data=pd.read_csv('Mall_Customers.csv')"
   ]
  },
  {
   "cell_type": "code",
   "execution_count": 9,
   "metadata": {
    "execution": {
     "iopub.execute_input": "2021-11-11T10:32:45.424206Z",
     "iopub.status.busy": "2021-11-11T10:32:45.423343Z",
     "iopub.status.idle": "2021-11-11T10:32:45.554682Z",
     "shell.execute_reply": "2021-11-11T10:32:45.553830Z",
     "shell.execute_reply.started": "2021-11-11T10:32:45.424162Z"
    }
   },
   "outputs": [
    {
     "data": {
      "text/html": [
       "<div>\n",
       "<style scoped>\n",
       "    .dataframe tbody tr th:only-of-type {\n",
       "        vertical-align: middle;\n",
       "    }\n",
       "\n",
       "    .dataframe tbody tr th {\n",
       "        vertical-align: top;\n",
       "    }\n",
       "\n",
       "    .dataframe thead th {\n",
       "        text-align: right;\n",
       "    }\n",
       "</style>\n",
       "<table border=\"1\" class=\"dataframe\">\n",
       "  <thead>\n",
       "    <tr style=\"text-align: right;\">\n",
       "      <th></th>\n",
       "      <th>CustomerID</th>\n",
       "      <th>Gender</th>\n",
       "      <th>Age</th>\n",
       "      <th>Annual Income (k$)</th>\n",
       "      <th>Spending Score (1-100)</th>\n",
       "    </tr>\n",
       "  </thead>\n",
       "  <tbody>\n",
       "    <tr>\n",
       "      <th>0</th>\n",
       "      <td>1</td>\n",
       "      <td>Male</td>\n",
       "      <td>19</td>\n",
       "      <td>15</td>\n",
       "      <td>39</td>\n",
       "    </tr>\n",
       "    <tr>\n",
       "      <th>1</th>\n",
       "      <td>2</td>\n",
       "      <td>Male</td>\n",
       "      <td>21</td>\n",
       "      <td>15</td>\n",
       "      <td>81</td>\n",
       "    </tr>\n",
       "    <tr>\n",
       "      <th>2</th>\n",
       "      <td>3</td>\n",
       "      <td>Female</td>\n",
       "      <td>20</td>\n",
       "      <td>16</td>\n",
       "      <td>6</td>\n",
       "    </tr>\n",
       "    <tr>\n",
       "      <th>3</th>\n",
       "      <td>4</td>\n",
       "      <td>Female</td>\n",
       "      <td>23</td>\n",
       "      <td>16</td>\n",
       "      <td>77</td>\n",
       "    </tr>\n",
       "    <tr>\n",
       "      <th>4</th>\n",
       "      <td>5</td>\n",
       "      <td>Female</td>\n",
       "      <td>31</td>\n",
       "      <td>17</td>\n",
       "      <td>40</td>\n",
       "    </tr>\n",
       "    <tr>\n",
       "      <th>...</th>\n",
       "      <td>...</td>\n",
       "      <td>...</td>\n",
       "      <td>...</td>\n",
       "      <td>...</td>\n",
       "      <td>...</td>\n",
       "    </tr>\n",
       "    <tr>\n",
       "      <th>195</th>\n",
       "      <td>196</td>\n",
       "      <td>Female</td>\n",
       "      <td>35</td>\n",
       "      <td>120</td>\n",
       "      <td>79</td>\n",
       "    </tr>\n",
       "    <tr>\n",
       "      <th>196</th>\n",
       "      <td>197</td>\n",
       "      <td>Female</td>\n",
       "      <td>45</td>\n",
       "      <td>126</td>\n",
       "      <td>28</td>\n",
       "    </tr>\n",
       "    <tr>\n",
       "      <th>197</th>\n",
       "      <td>198</td>\n",
       "      <td>Male</td>\n",
       "      <td>32</td>\n",
       "      <td>126</td>\n",
       "      <td>74</td>\n",
       "    </tr>\n",
       "    <tr>\n",
       "      <th>198</th>\n",
       "      <td>199</td>\n",
       "      <td>Male</td>\n",
       "      <td>32</td>\n",
       "      <td>137</td>\n",
       "      <td>18</td>\n",
       "    </tr>\n",
       "    <tr>\n",
       "      <th>199</th>\n",
       "      <td>200</td>\n",
       "      <td>Male</td>\n",
       "      <td>30</td>\n",
       "      <td>137</td>\n",
       "      <td>83</td>\n",
       "    </tr>\n",
       "  </tbody>\n",
       "</table>\n",
       "<p>200 rows × 5 columns</p>\n",
       "</div>"
      ],
      "text/plain": [
       "     CustomerID  Gender  Age  Annual Income (k$)  Spending Score (1-100)\n",
       "0             1    Male   19                  15                      39\n",
       "1             2    Male   21                  15                      81\n",
       "2             3  Female   20                  16                       6\n",
       "3             4  Female   23                  16                      77\n",
       "4             5  Female   31                  17                      40\n",
       "..          ...     ...  ...                 ...                     ...\n",
       "195         196  Female   35                 120                      79\n",
       "196         197  Female   45                 126                      28\n",
       "197         198    Male   32                 126                      74\n",
       "198         199    Male   32                 137                      18\n",
       "199         200    Male   30                 137                      83\n",
       "\n",
       "[200 rows x 5 columns]"
      ]
     },
     "execution_count": 9,
     "metadata": {},
     "output_type": "execute_result"
    }
   ],
   "source": [
    "data"
   ]
  },
  {
   "cell_type": "markdown",
   "metadata": {},
   "source": [
    "**EDA**"
   ]
  },
  {
   "cell_type": "code",
   "execution_count": 10,
   "metadata": {
    "execution": {
     "iopub.execute_input": "2021-11-11T10:32:45.556743Z",
     "iopub.status.busy": "2021-11-11T10:32:45.556500Z",
     "iopub.status.idle": "2021-11-11T10:32:45.565945Z",
     "shell.execute_reply": "2021-11-11T10:32:45.565086Z",
     "shell.execute_reply.started": "2021-11-11T10:32:45.556714Z"
    }
   },
   "outputs": [],
   "source": [
    "data.drop('CustomerID', axis=1,inplace=True)"
   ]
  },
  {
   "cell_type": "code",
   "execution_count": 11,
   "metadata": {
    "execution": {
     "iopub.execute_input": "2021-11-11T10:32:45.567295Z",
     "iopub.status.busy": "2021-11-11T10:32:45.567066Z",
     "iopub.status.idle": "2021-11-11T10:32:45.588384Z",
     "shell.execute_reply": "2021-11-11T10:32:45.587794Z",
     "shell.execute_reply.started": "2021-11-11T10:32:45.567268Z"
    }
   },
   "outputs": [
    {
     "data": {
      "text/html": [
       "<div>\n",
       "<style scoped>\n",
       "    .dataframe tbody tr th:only-of-type {\n",
       "        vertical-align: middle;\n",
       "    }\n",
       "\n",
       "    .dataframe tbody tr th {\n",
       "        vertical-align: top;\n",
       "    }\n",
       "\n",
       "    .dataframe thead th {\n",
       "        text-align: right;\n",
       "    }\n",
       "</style>\n",
       "<table border=\"1\" class=\"dataframe\">\n",
       "  <thead>\n",
       "    <tr style=\"text-align: right;\">\n",
       "      <th></th>\n",
       "      <th>Gender</th>\n",
       "      <th>Age</th>\n",
       "      <th>Annual Income (k$)</th>\n",
       "      <th>Spending Score (1-100)</th>\n",
       "    </tr>\n",
       "  </thead>\n",
       "  <tbody>\n",
       "    <tr>\n",
       "      <th>0</th>\n",
       "      <td>1</td>\n",
       "      <td>19</td>\n",
       "      <td>15</td>\n",
       "      <td>39</td>\n",
       "    </tr>\n",
       "    <tr>\n",
       "      <th>1</th>\n",
       "      <td>1</td>\n",
       "      <td>21</td>\n",
       "      <td>15</td>\n",
       "      <td>81</td>\n",
       "    </tr>\n",
       "    <tr>\n",
       "      <th>2</th>\n",
       "      <td>0</td>\n",
       "      <td>20</td>\n",
       "      <td>16</td>\n",
       "      <td>6</td>\n",
       "    </tr>\n",
       "    <tr>\n",
       "      <th>3</th>\n",
       "      <td>0</td>\n",
       "      <td>23</td>\n",
       "      <td>16</td>\n",
       "      <td>77</td>\n",
       "    </tr>\n",
       "    <tr>\n",
       "      <th>4</th>\n",
       "      <td>0</td>\n",
       "      <td>31</td>\n",
       "      <td>17</td>\n",
       "      <td>40</td>\n",
       "    </tr>\n",
       "    <tr>\n",
       "      <th>...</th>\n",
       "      <td>...</td>\n",
       "      <td>...</td>\n",
       "      <td>...</td>\n",
       "      <td>...</td>\n",
       "    </tr>\n",
       "    <tr>\n",
       "      <th>195</th>\n",
       "      <td>0</td>\n",
       "      <td>35</td>\n",
       "      <td>120</td>\n",
       "      <td>79</td>\n",
       "    </tr>\n",
       "    <tr>\n",
       "      <th>196</th>\n",
       "      <td>0</td>\n",
       "      <td>45</td>\n",
       "      <td>126</td>\n",
       "      <td>28</td>\n",
       "    </tr>\n",
       "    <tr>\n",
       "      <th>197</th>\n",
       "      <td>1</td>\n",
       "      <td>32</td>\n",
       "      <td>126</td>\n",
       "      <td>74</td>\n",
       "    </tr>\n",
       "    <tr>\n",
       "      <th>198</th>\n",
       "      <td>1</td>\n",
       "      <td>32</td>\n",
       "      <td>137</td>\n",
       "      <td>18</td>\n",
       "    </tr>\n",
       "    <tr>\n",
       "      <th>199</th>\n",
       "      <td>1</td>\n",
       "      <td>30</td>\n",
       "      <td>137</td>\n",
       "      <td>83</td>\n",
       "    </tr>\n",
       "  </tbody>\n",
       "</table>\n",
       "<p>200 rows × 4 columns</p>\n",
       "</div>"
      ],
      "text/plain": [
       "     Gender  Age  Annual Income (k$)  Spending Score (1-100)\n",
       "0         1   19                  15                      39\n",
       "1         1   21                  15                      81\n",
       "2         0   20                  16                       6\n",
       "3         0   23                  16                      77\n",
       "4         0   31                  17                      40\n",
       "..      ...  ...                 ...                     ...\n",
       "195       0   35                 120                      79\n",
       "196       0   45                 126                      28\n",
       "197       1   32                 126                      74\n",
       "198       1   32                 137                      18\n",
       "199       1   30                 137                      83\n",
       "\n",
       "[200 rows x 4 columns]"
      ]
     },
     "execution_count": 11,
     "metadata": {},
     "output_type": "execute_result"
    }
   ],
   "source": [
    "encoder = LabelEncoder()\n",
    "data['Gender'] = encoder.fit_transform(data['Gender'])\n",
    "data"
   ]
  },
  {
   "cell_type": "code",
   "execution_count": 12,
   "metadata": {
    "execution": {
     "iopub.execute_input": "2021-11-11T10:32:45.589674Z",
     "iopub.status.busy": "2021-11-11T10:32:45.589356Z",
     "iopub.status.idle": "2021-11-11T10:32:46.173620Z",
     "shell.execute_reply": "2021-11-11T10:32:46.172578Z",
     "shell.execute_reply.started": "2021-11-11T10:32:45.589647Z"
    }
   },
   "outputs": [
    {
     "data": {
      "image/png": "[encoded data removed]",
      "text/plain": [
       "<Figure size 504x360 with 1 Axes>"
      ]
     },
     "metadata": {
      "needs_background": "light"
     },
     "output_type": "display_data"
    }
   ],
   "source": [
    "plt.figure(figsize=(7, 5))\n",
    "plt.bar(data.Age,data['Annual Income (k$)'])\n",
    "plt.xlabel('Age')\n",
    "plt.ylabel('Income')\n",
    "plt.show()"
   ]
  },
  {
   "cell_type": "code",
   "execution_count": 13,
   "metadata": {
    "execution": {
     "iopub.execute_input": "2021-11-11T10:32:46.175110Z",
     "iopub.status.busy": "2021-11-11T10:32:46.174876Z",
     "iopub.status.idle": "2021-11-11T10:32:46.183414Z",
     "shell.execute_reply": "2021-11-11T10:32:46.182435Z",
     "shell.execute_reply.started": "2021-11-11T10:32:46.175082Z"
    }
   },
   "outputs": [],
   "source": [
    "scaler=StandardScaler()\n",
    "scaled_data=pd.DataFrame(scaler.fit_transform(data), columns=data.columns)"
   ]
  },
  {
   "cell_type": "code",
   "execution_count": 14,
   "metadata": {
    "execution": {
     "iopub.execute_input": "2021-11-11T10:32:46.184916Z",
     "iopub.status.busy": "2021-11-11T10:32:46.184711Z",
     "iopub.status.idle": "2021-11-11T10:32:46.202395Z",
     "shell.execute_reply": "2021-11-11T10:32:46.201486Z",
     "shell.execute_reply.started": "2021-11-11T10:32:46.184889Z"
    }
   },
   "outputs": [
    {
     "data": {
      "text/html": [
       "<div>\n",
       "<style scoped>\n",
       "    .dataframe tbody tr th:only-of-type {\n",
       "        vertical-align: middle;\n",
       "    }\n",
       "\n",
       "    .dataframe tbody tr th {\n",
       "        vertical-align: top;\n",
       "    }\n",
       "\n",
       "    .dataframe thead th {\n",
       "        text-align: right;\n",
       "    }\n",
       "</style>\n",
       "<table border=\"1\" class=\"dataframe\">\n",
       "  <thead>\n",
       "    <tr style=\"text-align: right;\">\n",
       "      <th></th>\n",
       "      <th>Gender</th>\n",
       "      <th>Age</th>\n",
       "      <th>Annual Income (k$)</th>\n",
       "      <th>Spending Score (1-100)</th>\n",
       "    </tr>\n",
       "  </thead>\n",
       "  <tbody>\n",
       "    <tr>\n",
       "      <th>0</th>\n",
       "      <td>1.128152</td>\n",
       "      <td>-1.424569</td>\n",
       "      <td>-1.738999</td>\n",
       "      <td>-0.434801</td>\n",
       "    </tr>\n",
       "    <tr>\n",
       "      <th>1</th>\n",
       "      <td>1.128152</td>\n",
       "      <td>-1.281035</td>\n",
       "      <td>-1.738999</td>\n",
       "      <td>1.195704</td>\n",
       "    </tr>\n",
       "    <tr>\n",
       "      <th>2</th>\n",
       "      <td>-0.886405</td>\n",
       "      <td>-1.352802</td>\n",
       "      <td>-1.700830</td>\n",
       "      <td>-1.715913</td>\n",
       "    </tr>\n",
       "    <tr>\n",
       "      <th>3</th>\n",
       "      <td>-0.886405</td>\n",
       "      <td>-1.137502</td>\n",
       "      <td>-1.700830</td>\n",
       "      <td>1.040418</td>\n",
       "    </tr>\n",
       "    <tr>\n",
       "      <th>4</th>\n",
       "      <td>-0.886405</td>\n",
       "      <td>-0.563369</td>\n",
       "      <td>-1.662660</td>\n",
       "      <td>-0.395980</td>\n",
       "    </tr>\n",
       "    <tr>\n",
       "      <th>...</th>\n",
       "      <td>...</td>\n",
       "      <td>...</td>\n",
       "      <td>...</td>\n",
       "      <td>...</td>\n",
       "    </tr>\n",
       "    <tr>\n",
       "      <th>195</th>\n",
       "      <td>-0.886405</td>\n",
       "      <td>-0.276302</td>\n",
       "      <td>2.268791</td>\n",
       "      <td>1.118061</td>\n",
       "    </tr>\n",
       "    <tr>\n",
       "      <th>196</th>\n",
       "      <td>-0.886405</td>\n",
       "      <td>0.441365</td>\n",
       "      <td>2.497807</td>\n",
       "      <td>-0.861839</td>\n",
       "    </tr>\n",
       "    <tr>\n",
       "      <th>197</th>\n",
       "      <td>1.128152</td>\n",
       "      <td>-0.491602</td>\n",
       "      <td>2.497807</td>\n",
       "      <td>0.923953</td>\n",
       "    </tr>\n",
       "    <tr>\n",
       "      <th>198</th>\n",
       "      <td>1.128152</td>\n",
       "      <td>-0.491602</td>\n",
       "      <td>2.917671</td>\n",
       "      <td>-1.250054</td>\n",
       "    </tr>\n",
       "    <tr>\n",
       "      <th>199</th>\n",
       "      <td>1.128152</td>\n",
       "      <td>-0.635135</td>\n",
       "      <td>2.917671</td>\n",
       "      <td>1.273347</td>\n",
       "    </tr>\n",
       "  </tbody>\n",
       "</table>\n",
       "<p>200 rows × 4 columns</p>\n",
       "</div>"
      ],
      "text/plain": [
       "       Gender       Age  Annual Income (k$)  Spending Score (1-100)\n",
       "0    1.128152 -1.424569           -1.738999               -0.434801\n",
       "1    1.128152 -1.281035           -1.738999                1.195704\n",
       "2   -0.886405 -1.352802           -1.700830               -1.715913\n",
       "3   -0.886405 -1.137502           -1.700830                1.040418\n",
       "4   -0.886405 -0.563369           -1.662660               -0.395980\n",
       "..        ...       ...                 ...                     ...\n",
       "195 -0.886405 -0.276302            2.268791                1.118061\n",
       "196 -0.886405  0.441365            2.497807               -0.861839\n",
       "197  1.128152 -0.491602            2.497807                0.923953\n",
       "198  1.128152 -0.491602            2.917671               -1.250054\n",
       "199  1.128152 -0.635135            2.917671                1.273347\n",
       "\n",
       "[200 rows x 4 columns]"
      ]
     },
     "execution_count": 14,
     "metadata": {},
     "output_type": "execute_result"
    }
   ],
   "source": [
    "scaled_data"
   ]
  },
  {
   "cell_type": "markdown",
   "metadata": {},
   "source": [
    "**Clustering**"
   ]
  },
  {
   "cell_type": "code",
   "execution_count": 15,
   "metadata": {
    "execution": {
     "iopub.execute_input": "2021-11-11T10:32:46.205938Z",
     "iopub.status.busy": "2021-11-11T10:32:46.205532Z",
     "iopub.status.idle": "2021-11-11T10:32:46.211776Z",
     "shell.execute_reply": "2021-11-11T10:32:46.210956Z",
     "shell.execute_reply.started": "2021-11-11T10:32:46.205888Z"
    }
   },
   "outputs": [],
   "source": [
    "max_clusters=50"
   ]
  },
  {
   "cell_type": "code",
   "execution_count": 16,
   "metadata": {
    "execution": {
     "iopub.execute_input": "2021-11-11T10:32:46.214748Z",
     "iopub.status.busy": "2021-11-11T10:32:46.214306Z",
     "iopub.status.idle": "2021-11-11T10:32:51.759325Z",
     "shell.execute_reply": "2021-11-11T10:32:51.758248Z",
     "shell.execute_reply.started": "2021-11-11T10:32:46.214710Z"
    }
   },
   "outputs": [],
   "source": [
    "kmeans_tests = [KMeans(n_clusters=i, n_init=10) for i in range(1, max_clusters)]\n",
    "inertias = [kmeans_tests[i].fit(scaled_data).inertia_ for i in range(len(kmeans_tests))]"
   ]
  },
  {
   "cell_type": "code",
   "execution_count": 17,
   "metadata": {
    "execution": {
     "iopub.execute_input": "2021-11-11T10:32:51.760855Z",
     "iopub.status.busy": "2021-11-11T10:32:51.760627Z",
     "iopub.status.idle": "2021-11-11T10:32:51.767770Z",
     "shell.execute_reply": "2021-11-11T10:32:51.766966Z",
     "shell.execute_reply.started": "2021-11-11T10:32:51.760824Z"
    }
   },
   "outputs": [
    {
     "data": {
      "text/plain": [
       "[800.0000000000003,\n",
       " 588.8026767824932,\n",
       " 476.78755441351575,\n",
       " 388.7178614053844,\n",
       " 325.44857048543486,\n",
       " 275.81432984807674,\n",
       " 235.43099617231493,\n",
       " 199.83225917430758,\n",
       " 174.18800022186812,\n",
       " 152.02983429775693,\n",
       " 137.19816888181063,\n",
       " 126.43518307789839,\n",
       " 118.61749225698601,\n",
       " 111.25770517636475,\n",
       " 99.63161461336324,\n",
       " 93.81872740562768,\n",
       " 89.59008374431525,\n",
       " 83.4936468118362,\n",
       " 79.51828181007981,\n",
       " 74.03495578606025,\n",
       " 71.67236956261772,\n",
       " 65.85098348823871,\n",
       " 63.417652656981595,\n",
       " 59.09282278868136,\n",
       " 57.755477787674785,\n",
       " 53.65464582222597,\n",
       " 52.972348320839515,\n",
       " 51.780219777140054,\n",
       " 47.68018984174456,\n",
       " 45.7927092095298,\n",
       " 45.296796117694214,\n",
       " 43.486811738728356,\n",
       " 41.90341513626534,\n",
       " 39.36850384531586,\n",
       " 38.16459450986655,\n",
       " 37.918889650499615,\n",
       " 36.218924259406265,\n",
       " 35.046678244273465,\n",
       " 35.17912559970021,\n",
       " 33.444396415698726,\n",
       " 32.513247792583776,\n",
       " 31.785972419998263,\n",
       " 30.4096537498327,\n",
       " 29.470278794613527,\n",
       " 28.88773770814796,\n",
       " 28.51902233109536,\n",
       " 27.575089385251758,\n",
       " 26.330040605232107,\n",
       " 25.42501494717497]"
      ]
     },
     "execution_count": 17,
     "metadata": {},
     "output_type": "execute_result"
    }
   ],
   "source": [
    "inertias"
   ]
  },
  {
   "cell_type": "code",
   "execution_count": 18,
   "metadata": {
    "execution": {
     "iopub.execute_input": "2021-11-11T10:32:51.769477Z",
     "iopub.status.busy": "2021-11-11T10:32:51.769143Z",
     "iopub.status.idle": "2021-11-11T10:32:51.999040Z",
     "shell.execute_reply": "2021-11-11T10:32:51.998060Z",
     "shell.execute_reply.started": "2021-11-11T10:32:51.769436Z"
    }
   },
   "outputs": [
    {
     "data": {
      "image/png": "[encoded data removed]",
      "text/plain": [
       "<Figure size 504x360 with 1 Axes>"
      ]
     },
     "metadata": {
      "needs_background": "light"
     },
     "output_type": "display_data"
    }
   ],
   "source": [
    "#Elbow Method:- Used to know the K or no. of clusters\n",
    "plt.figure(figsize=(7, 5))\n",
    "plt.plot(range(1, max_clusters), inertias)\n",
    "plt.xlabel(\"Number of Clusters\")\n",
    "plt.ylabel(\"Inertia\")\n",
    "plt.title(\"Choosing the Number of Clusters\")\n",
    "plt.show()"
   ]
  },
  {
   "cell_type": "code",
   "execution_count": 19,
   "metadata": {
    "execution": {
     "iopub.execute_input": "2021-11-11T10:32:52.000763Z",
     "iopub.status.busy": "2021-11-11T10:32:52.000523Z",
     "iopub.status.idle": "2021-11-11T10:32:52.072822Z",
     "shell.execute_reply": "2021-11-11T10:32:52.072018Z",
     "shell.execute_reply.started": "2021-11-11T10:32:52.000732Z"
    }
   },
   "outputs": [
    {
     "data": {
      "text/plain": [
       "array([4, 4, 1, 6, 1, 6, 0, 6, 0, 6, 0, 6, 0, 6, 0, 4, 1, 4, 0, 6, 4, 4,\n",
       "       0, 4, 0, 4, 7, 4, 1, 6, 0, 6, 0, 4, 0, 6, 0, 6, 1, 6, 7, 4, 3, 1,\n",
       "       7, 6, 7, 1, 1, 1, 7, 4, 1, 3, 7, 3, 7, 3, 1, 3, 3, 4, 7, 7, 3, 4,\n",
       "       7, 7, 4, 1, 3, 7, 7, 7, 3, 4, 7, 4, 1, 7, 3, 4, 3, 7, 1, 3, 7, 1,\n",
       "       1, 7, 7, 4, 3, 1, 1, 4, 7, 1, 3, 4, 1, 7, 3, 4, 3, 1, 7, 3, 3, 3,\n",
       "       3, 1, 1, 4, 1, 1, 7, 7, 7, 7, 4, 1, 1, 2, 1, 9, 5, 2, 3, 2, 5, 2,\n",
       "       1, 9, 5, 9, 8, 2, 5, 9, 8, 2, 1, 9, 5, 2, 3, 9, 8, 2, 5, 2, 8, 9,\n",
       "       8, 9, 5, 9, 5, 9, 7, 9, 5, 9, 5, 9, 5, 9, 8, 2, 5, 2, 5, 2, 8, 9,\n",
       "       5, 2, 5, 2, 8, 9, 5, 9, 8, 2, 8, 2, 8, 9, 8, 9, 5, 9, 8, 9, 8, 2,\n",
       "       5, 2])"
      ]
     },
     "execution_count": 19,
     "metadata": {},
     "output_type": "execute_result"
    }
   ],
   "source": [
    "kmeans=KMeans(n_clusters=10,n_init=10)\n",
    "cluster=kmeans.fit_predict(scaled_data)\n",
    "cluster"
   ]
  },
  {
   "cell_type": "code",
   "execution_count": 20,
   "metadata": {
    "execution": {
     "iopub.execute_input": "2021-11-11T10:32:52.074283Z",
     "iopub.status.busy": "2021-11-11T10:32:52.074044Z",
     "iopub.status.idle": "2021-11-11T10:32:52.087480Z",
     "shell.execute_reply": "2021-11-11T10:32:52.086645Z",
     "shell.execute_reply.started": "2021-11-11T10:32:52.074254Z"
    }
   },
   "outputs": [
    {
     "data": {
      "text/html": [
       "<div>\n",
       "<style scoped>\n",
       "    .dataframe tbody tr th:only-of-type {\n",
       "        vertical-align: middle;\n",
       "    }\n",
       "\n",
       "    .dataframe tbody tr th {\n",
       "        vertical-align: top;\n",
       "    }\n",
       "\n",
       "    .dataframe thead th {\n",
       "        text-align: right;\n",
       "    }\n",
       "</style>\n",
       "<table border=\"1\" class=\"dataframe\">\n",
       "  <thead>\n",
       "    <tr style=\"text-align: right;\">\n",
       "      <th></th>\n",
       "      <th>Gender</th>\n",
       "      <th>Age</th>\n",
       "      <th>Annual Income (k$)</th>\n",
       "      <th>Spending Score (1-100)</th>\n",
       "      <th>clusters</th>\n",
       "    </tr>\n",
       "  </thead>\n",
       "  <tbody>\n",
       "    <tr>\n",
       "      <th>0</th>\n",
       "      <td>1.128152</td>\n",
       "      <td>-1.424569</td>\n",
       "      <td>-1.738999</td>\n",
       "      <td>-0.434801</td>\n",
       "      <td>4</td>\n",
       "    </tr>\n",
       "    <tr>\n",
       "      <th>1</th>\n",
       "      <td>1.128152</td>\n",
       "      <td>-1.281035</td>\n",
       "      <td>-1.738999</td>\n",
       "      <td>1.195704</td>\n",
       "      <td>4</td>\n",
       "    </tr>\n",
       "    <tr>\n",
       "      <th>2</th>\n",
       "      <td>-0.886405</td>\n",
       "      <td>-1.352802</td>\n",
       "      <td>-1.700830</td>\n",
       "      <td>-1.715913</td>\n",
       "      <td>1</td>\n",
       "    </tr>\n",
       "    <tr>\n",
       "      <th>3</th>\n",
       "      <td>-0.886405</td>\n",
       "      <td>-1.137502</td>\n",
       "      <td>-1.700830</td>\n",
       "      <td>1.040418</td>\n",
       "      <td>6</td>\n",
       "    </tr>\n",
       "    <tr>\n",
       "      <th>4</th>\n",
       "      <td>-0.886405</td>\n",
       "      <td>-0.563369</td>\n",
       "      <td>-1.662660</td>\n",
       "      <td>-0.395980</td>\n",
       "      <td>1</td>\n",
       "    </tr>\n",
       "  </tbody>\n",
       "</table>\n",
       "</div>"
      ],
      "text/plain": [
       "     Gender       Age  Annual Income (k$)  Spending Score (1-100)  clusters\n",
       "0  1.128152 -1.424569           -1.738999               -0.434801         4\n",
       "1  1.128152 -1.281035           -1.738999                1.195704         4\n",
       "2 -0.886405 -1.352802           -1.700830               -1.715913         1\n",
       "3 -0.886405 -1.137502           -1.700830                1.040418         6\n",
       "4 -0.886405 -0.563369           -1.662660               -0.395980         1"
      ]
     },
     "execution_count": 20,
     "metadata": {},
     "output_type": "execute_result"
    }
   ],
   "source": [
    "scaled_data['clusters']=cluster\n",
    "scaled_data.head()"
   ]
  },
  {
   "cell_type": "markdown",
   "metadata": {},
   "source": [
    "**PCA**"
   ]
  },
  {
   "cell_type": "code",
   "execution_count": 21,
   "metadata": {
    "execution": {
     "iopub.execute_input": "2021-11-11T10:32:52.088916Z",
     "iopub.status.busy": "2021-11-11T10:32:52.088658Z",
     "iopub.status.idle": "2021-11-11T10:32:52.119399Z",
     "shell.execute_reply": "2021-11-11T10:32:52.118743Z",
     "shell.execute_reply.started": "2021-11-11T10:32:52.088886Z"
    }
   },
   "outputs": [
    {
     "data": {
      "text/html": [
       "<div>\n",
       "<style scoped>\n",
       "    .dataframe tbody tr th:only-of-type {\n",
       "        vertical-align: middle;\n",
       "    }\n",
       "\n",
       "    .dataframe tbody tr th {\n",
       "        vertical-align: top;\n",
       "    }\n",
       "\n",
       "    .dataframe thead th {\n",
       "        text-align: right;\n",
       "    }\n",
       "</style>\n",
       "<table border=\"1\" class=\"dataframe\">\n",
       "  <thead>\n",
       "    <tr style=\"text-align: right;\">\n",
       "      <th></th>\n",
       "      <th>PC1</th>\n",
       "      <th>PC2</th>\n",
       "    </tr>\n",
       "  </thead>\n",
       "  <tbody>\n",
       "    <tr>\n",
       "      <th>0</th>\n",
       "      <td>-0.903201</td>\n",
       "      <td>-0.780581</td>\n",
       "    </tr>\n",
       "    <tr>\n",
       "      <th>1</th>\n",
       "      <td>-0.775890</td>\n",
       "      <td>-1.771567</td>\n",
       "    </tr>\n",
       "    <tr>\n",
       "      <th>2</th>\n",
       "      <td>-3.642769</td>\n",
       "      <td>-0.262288</td>\n",
       "    </tr>\n",
       "    <tr>\n",
       "      <th>3</th>\n",
       "      <td>1.462846</td>\n",
       "      <td>-1.744054</td>\n",
       "    </tr>\n",
       "    <tr>\n",
       "      <th>4</th>\n",
       "      <td>-3.520473</td>\n",
       "      <td>-0.575415</td>\n",
       "    </tr>\n",
       "    <tr>\n",
       "      <th>...</th>\n",
       "      <td>...</td>\n",
       "      <td>...</td>\n",
       "    </tr>\n",
       "    <tr>\n",
       "      <th>195</th>\n",
       "      <td>4.934494</td>\n",
       "      <td>-0.644223</td>\n",
       "    </tr>\n",
       "    <tr>\n",
       "      <th>196</th>\n",
       "      <td>3.850245</td>\n",
       "      <td>1.182608</td>\n",
       "    </tr>\n",
       "    <tr>\n",
       "      <th>197</th>\n",
       "      <td>-2.188856</td>\n",
       "      <td>-0.674967</td>\n",
       "    </tr>\n",
       "    <tr>\n",
       "      <th>198</th>\n",
       "      <td>0.634294</td>\n",
       "      <td>0.954846</td>\n",
       "    </tr>\n",
       "    <tr>\n",
       "      <th>199</th>\n",
       "      <td>-2.111035</td>\n",
       "      <td>-0.970275</td>\n",
       "    </tr>\n",
       "  </tbody>\n",
       "</table>\n",
       "<p>200 rows × 2 columns</p>\n",
       "</div>"
      ],
      "text/plain": [
       "          PC1       PC2\n",
       "0   -0.903201 -0.780581\n",
       "1   -0.775890 -1.771567\n",
       "2   -3.642769 -0.262288\n",
       "3    1.462846 -1.744054\n",
       "4   -3.520473 -0.575415\n",
       "..        ...       ...\n",
       "195  4.934494 -0.644223\n",
       "196  3.850245  1.182608\n",
       "197 -2.188856 -0.674967\n",
       "198  0.634294  0.954846\n",
       "199 -2.111035 -0.970275\n",
       "\n",
       "[200 rows x 2 columns]"
      ]
     },
     "execution_count": 21,
     "metadata": {},
     "output_type": "execute_result"
    }
   ],
   "source": [
    "pca = PCA(n_components=2)\n",
    "reduced_data = pd.DataFrame(pca.fit_transform(scaled_data), columns=['PC1','PC2'])\n",
    "reduced_data"
   ]
  },
  {
   "cell_type": "code",
   "execution_count": 22,
   "metadata": {
    "execution": {
     "iopub.execute_input": "2021-11-11T10:32:52.120896Z",
     "iopub.status.busy": "2021-11-11T10:32:52.120416Z",
     "iopub.status.idle": "2021-11-11T10:32:52.126779Z",
     "shell.execute_reply": "2021-11-11T10:32:52.126206Z",
     "shell.execute_reply.started": "2021-11-11T10:32:52.120853Z"
    }
   },
   "outputs": [
    {
     "data": {
      "text/plain": [
       "array([[ 0.12087344,  0.90186807, -1.35094333, -1.5023944 ],\n",
       "       [-0.88640526, -0.7284319 , -0.3343642 , -0.24586988],\n",
       "       [ 1.12815215, -0.39989994,  1.01344075,  1.26040667],\n",
       "       [ 1.12815215,  1.39390484, -0.19660726, -0.15246286],\n",
       "       [ 1.12815215, -0.97602698, -0.73705168,  0.41603773],\n",
       "       [ 1.12815215, -0.06498872,  0.98587395, -1.44416206],\n",
       "       [-0.88640526, -0.96084556, -1.33087991,  1.17778643],\n",
       "       [-0.88640526,  1.06163439, -0.29810324, -0.10065876],\n",
       "       [-0.88640526,  0.35421988,  1.24912183, -1.14745442],\n",
       "       [-0.88640526, -0.47793198,  0.97284787,  1.22158511]])"
      ]
     },
     "execution_count": 22,
     "metadata": {},
     "output_type": "execute_result"
    }
   ],
   "source": [
    "kmeans.cluster_centers_"
   ]
  },
  {
   "cell_type": "code",
   "execution_count": 23,
   "metadata": {
    "execution": {
     "iopub.execute_input": "2021-11-11T10:32:52.128666Z",
     "iopub.status.busy": "2021-11-11T10:32:52.127810Z",
     "iopub.status.idle": "2021-11-11T10:32:52.140965Z",
     "shell.execute_reply": "2021-11-11T10:32:52.140366Z",
     "shell.execute_reply.started": "2021-11-11T10:32:52.128518Z"
    }
   },
   "outputs": [
    {
     "data": {
      "text/plain": [
       "array([[-1.6019279 , -1.27049979],\n",
       "       [ 0.48671583, -0.77848365],\n",
       "       [ 0.94820177,  1.73191629],\n",
       "       [-1.09606751,  0.399563  ],\n",
       "       [ 0.67484265,  0.3727587 ],\n",
       "       [-1.39795544,  1.21784888],\n",
       "       [ 1.80396112, -1.24277858],\n",
       "       [-0.37176361, -0.93428314],\n",
       "       [-0.90465368,  0.105855  ],\n",
       "       [ 1.45864678,  0.39810329]])"
      ]
     },
     "execution_count": 23,
     "metadata": {},
     "output_type": "execute_result"
    }
   ],
   "source": [
    "reduced_centers=pca.fit_transform(kmeans.cluster_centers_)\n",
    "reduced_centers"
   ]
  },
  {
   "cell_type": "code",
   "execution_count": 24,
   "metadata": {
    "execution": {
     "iopub.execute_input": "2021-11-11T10:32:52.142584Z",
     "iopub.status.busy": "2021-11-11T10:32:52.142066Z",
     "iopub.status.idle": "2021-11-11T10:32:52.159793Z",
     "shell.execute_reply": "2021-11-11T10:32:52.159200Z",
     "shell.execute_reply.started": "2021-11-11T10:32:52.142551Z"
    }
   },
   "outputs": [
    {
     "data": {
      "text/html": [
       "<div>\n",
       "<style scoped>\n",
       "    .dataframe tbody tr th:only-of-type {\n",
       "        vertical-align: middle;\n",
       "    }\n",
       "\n",
       "    .dataframe tbody tr th {\n",
       "        vertical-align: top;\n",
       "    }\n",
       "\n",
       "    .dataframe thead th {\n",
       "        text-align: right;\n",
       "    }\n",
       "</style>\n",
       "<table border=\"1\" class=\"dataframe\">\n",
       "  <thead>\n",
       "    <tr style=\"text-align: right;\">\n",
       "      <th></th>\n",
       "      <th>PC1</th>\n",
       "      <th>PC2</th>\n",
       "      <th>clusters</th>\n",
       "    </tr>\n",
       "  </thead>\n",
       "  <tbody>\n",
       "    <tr>\n",
       "      <th>0</th>\n",
       "      <td>-0.903201</td>\n",
       "      <td>-0.780581</td>\n",
       "      <td>4</td>\n",
       "    </tr>\n",
       "    <tr>\n",
       "      <th>1</th>\n",
       "      <td>-0.775890</td>\n",
       "      <td>-1.771567</td>\n",
       "      <td>4</td>\n",
       "    </tr>\n",
       "    <tr>\n",
       "      <th>2</th>\n",
       "      <td>-3.642769</td>\n",
       "      <td>-0.262288</td>\n",
       "      <td>1</td>\n",
       "    </tr>\n",
       "    <tr>\n",
       "      <th>3</th>\n",
       "      <td>1.462846</td>\n",
       "      <td>-1.744054</td>\n",
       "      <td>6</td>\n",
       "    </tr>\n",
       "    <tr>\n",
       "      <th>4</th>\n",
       "      <td>-3.520473</td>\n",
       "      <td>-0.575415</td>\n",
       "      <td>1</td>\n",
       "    </tr>\n",
       "    <tr>\n",
       "      <th>...</th>\n",
       "      <td>...</td>\n",
       "      <td>...</td>\n",
       "      <td>...</td>\n",
       "    </tr>\n",
       "    <tr>\n",
       "      <th>195</th>\n",
       "      <td>4.934494</td>\n",
       "      <td>-0.644223</td>\n",
       "      <td>9</td>\n",
       "    </tr>\n",
       "    <tr>\n",
       "      <th>196</th>\n",
       "      <td>3.850245</td>\n",
       "      <td>1.182608</td>\n",
       "      <td>8</td>\n",
       "    </tr>\n",
       "    <tr>\n",
       "      <th>197</th>\n",
       "      <td>-2.188856</td>\n",
       "      <td>-0.674967</td>\n",
       "      <td>2</td>\n",
       "    </tr>\n",
       "    <tr>\n",
       "      <th>198</th>\n",
       "      <td>0.634294</td>\n",
       "      <td>0.954846</td>\n",
       "      <td>5</td>\n",
       "    </tr>\n",
       "    <tr>\n",
       "      <th>199</th>\n",
       "      <td>-2.111035</td>\n",
       "      <td>-0.970275</td>\n",
       "      <td>2</td>\n",
       "    </tr>\n",
       "  </tbody>\n",
       "</table>\n",
       "<p>200 rows × 3 columns</p>\n",
       "</div>"
      ],
      "text/plain": [
       "          PC1       PC2  clusters\n",
       "0   -0.903201 -0.780581         4\n",
       "1   -0.775890 -1.771567         4\n",
       "2   -3.642769 -0.262288         1\n",
       "3    1.462846 -1.744054         6\n",
       "4   -3.520473 -0.575415         1\n",
       "..        ...       ...       ...\n",
       "195  4.934494 -0.644223         9\n",
       "196  3.850245  1.182608         8\n",
       "197 -2.188856 -0.674967         2\n",
       "198  0.634294  0.954846         5\n",
       "199 -2.111035 -0.970275         2\n",
       "\n",
       "[200 rows x 3 columns]"
      ]
     },
     "execution_count": 24,
     "metadata": {},
     "output_type": "execute_result"
    }
   ],
   "source": [
    "reduced_data['clusters'] = cluster\n",
    "reduced_data"
   ]
  },
  {
   "cell_type": "markdown",
   "metadata": {},
   "source": [
    "**Data Visualization**"
   ]
  },
  {
   "cell_type": "code",
   "execution_count": 25,
   "metadata": {
    "execution": {
     "iopub.execute_input": "2021-11-11T10:32:52.161500Z",
     "iopub.status.busy": "2021-11-11T10:32:52.160854Z",
     "iopub.status.idle": "2021-11-11T10:32:52.498650Z",
     "shell.execute_reply": "2021-11-11T10:32:52.497684Z",
     "shell.execute_reply.started": "2021-11-11T10:32:52.161463Z"
    }
   },
   "outputs": [
    {
     "data": {
      "image/png": "[encoded data removed]",
      "text/plain": [
       "<Figure size 1008x720 with 1 Axes>"
      ]
     },
     "metadata": {
      "needs_background": "light"
     },
     "output_type": "display_data"
    }
   ],
   "source": [
    "plt.figure(figsize=(14, 10))\n",
    "\n",
    "plt.scatter(reduced_data[reduced_data['clusters'] == 0].loc[:, 'PC1'], reduced_data[reduced_data['clusters'] == 0].loc[:, 'PC2'], color='red')\n",
    "plt.scatter(reduced_data[reduced_data['clusters'] == 1].loc[:, 'PC1'], reduced_data[reduced_data['clusters'] == 1].loc[:, 'PC2'], color='blue')\n",
    "plt.scatter(reduced_data[reduced_data['clusters'] == 2].loc[:, 'PC1'], reduced_data[reduced_data['clusters'] == 2].loc[:, 'PC2'], color='yellow')\n",
    "plt.scatter(reduced_data[reduced_data['clusters'] == 3].loc[:, 'PC1'], reduced_data[reduced_data['clusters'] == 3].loc[:, 'PC2'], color='orange')\n",
    "plt.scatter(reduced_data[reduced_data['clusters'] == 4].loc[:, 'PC1'], reduced_data[reduced_data['clusters'] == 4].loc[:, 'PC2'], color='cyan')\n",
    "plt.scatter(reduced_data[reduced_data['clusters'] == 5].loc[:, 'PC1'], reduced_data[reduced_data['clusters'] == 5].loc[:, 'PC2'], color='black')\n",
    "plt.scatter(reduced_data[reduced_data['clusters'] == 6].loc[:, 'PC1'], reduced_data[reduced_data['clusters'] == 6].loc[:, 'PC2'], color='brown')\n",
    "plt.scatter(reduced_data[reduced_data['clusters'] == 7].loc[:, 'PC1'], reduced_data[reduced_data['clusters'] == 7].loc[:, 'PC2'], color='pink')\n",
    "plt.scatter(reduced_data[reduced_data['clusters'] == 8].loc[:, 'PC1'], reduced_data[reduced_data['clusters'] == 8].loc[:, 'PC2'], color='green')\n",
    "plt.scatter(reduced_data[reduced_data['clusters'] == 9].loc[:, 'PC1'], reduced_data[reduced_data['clusters'] == 9].loc[:, 'PC2'], color='purple')\n",
    "\n",
    "\n",
    "plt.xlabel(\"PC1\")\n",
    "plt.ylabel(\"PC2\")\n",
    "\n",
    "plt.show()"
   ]
  },
  {
   "cell_type": "code",
   "execution_count": null,
   "metadata": {},
   "outputs": [],
   "source": []
  }
 ],
 "metadata": {
  "kernelspec": {
   "display_name": "Python 3",
   "language": "python",
   "name": "python3"
  },
  "language_info": {
   "codemirror_mode": {
    "name": "ipython",
    "version": 3
   },
   "file_extension": ".py",
   "mimetype": "text/x-python",
   "name": "python",
   "nbconvert_exporter": "python",
   "pygments_lexer": "ipython3",
   "version": "3.8.5"
  }
 },
 "nbformat": 4,
 "nbformat_minor": 4
}
